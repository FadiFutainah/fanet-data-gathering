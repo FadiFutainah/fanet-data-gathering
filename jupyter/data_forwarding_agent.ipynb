{
 "cells": [
  {
   "cell_type": "code",
   "execution_count": null,
   "metadata": {},
   "outputs": [],
   "source": [
    "def get_available_actions():\n",
    "    get_neighbouring_uavs(uav)\n",
    "    base_stations()\n",
    "\n",
    "def get_current_state():\n",
    "    pass   \n",
    "\n",
    "def get_next_state(move):\n",
    "    pass     \n",
    "\n",
    "def reset_environment():\n",
    "    pass"
   ]
  }
 ],
 "metadata": {
  "language_info": {
   "name": "python"
  },
  "orig_nbformat": 4
 },
 "nbformat": 4,
 "nbformat_minor": 2
}
